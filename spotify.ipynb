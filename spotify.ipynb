{
 "cells": [
  {
   "cell_type": "code",
   "execution_count": 3,
   "metadata": {},
   "outputs": [],
   "source": [
    "import spotipy\n",
    "from spotipy.oauth2 import SpotifyClientCredentials\n",
    "import sys"
   ]
  },
  {
   "cell_type": "code",
   "execution_count": 4,
   "metadata": {},
   "outputs": [],
   "source": [
    "client_id = 'eb607083c4cf43e38b906413a3ef1ada'\n",
    "client_secret = '8e212a861d5d414ebc74a5ed3378459c'\n",
    "client_credentials_manager = spotipy.oauth2.SpotifyClientCredentials(client_id, client_secret)"
   ]
  },
  {
   "cell_type": "code",
   "execution_count": 47,
   "metadata": {},
   "outputs": [
    {
     "name": "stdout",
     "output_type": "stream",
     "text": [
      "track      : Kaiju no Hanauta\n",
      "popularity : 49\n",
      "audio      : https://p.scdn.co/mp3-preview/ab946774c8f2e6c04aef35060bfbdb53d573f1cd?cid=eb607083c4cf43e38b906413a3ef1ada\n",
      "cover art  : https://i.scdn.co/image/ab67616d0000b273a8bfbe9641a7a7753022b1f8\n",
      "\n",
      "track      : 踊り子\n",
      "popularity : 74\n",
      "audio      : https://p.scdn.co/mp3-preview/4daae1b81fbec587b59d420d5e073c03787c740d?cid=eb607083c4cf43e38b906413a3ef1ada\n",
      "cover art  : https://i.scdn.co/image/ab67616d0000b2738d88fae79a837318aadcc056\n",
      "\n",
      "track      : Fukakoryoku\n",
      "popularity : 49\n",
      "audio      : https://p.scdn.co/mp3-preview/c54092b7b1ce111ae0123f6c12b640e4b54b76e4?cid=eb607083c4cf43e38b906413a3ef1ada\n",
      "cover art  : https://i.scdn.co/image/ab67616d0000b273a8bfbe9641a7a7753022b1f8\n",
      "\n",
      "track      : napori\n",
      "popularity : 42\n",
      "audio      : https://p.scdn.co/mp3-preview/5f44107f3c4b6a8e10b1e69e490c33a83eb61f4f?cid=eb607083c4cf43e38b906413a3ef1ada\n",
      "cover art  : https://i.scdn.co/image/ab67616d0000b273a8bfbe9641a7a7753022b1f8\n",
      "\n",
      "track      : そんなbitterな話\n",
      "popularity : 65\n",
      "audio      : https://p.scdn.co/mp3-preview/9f7202c6e35c4dad2bfa59b34f3dfbf1de13623c?cid=eb607083c4cf43e38b906413a3ef1ada\n",
      "cover art  : https://i.scdn.co/image/ab67616d0000b2738d88fae79a837318aadcc056\n",
      "\n",
      "track      : 裸の勇者\n",
      "popularity : 60\n",
      "audio      : https://p.scdn.co/mp3-preview/8a3156f410d820c01dcb5d0d420166923fcafe9c?cid=eb607083c4cf43e38b906413a3ef1ada\n",
      "cover art  : https://i.scdn.co/image/ab67616d0000b2738d88fae79a837318aadcc056\n",
      "\n",
      "track      : トドメの一撃\n",
      "popularity : 61\n",
      "audio      : https://p.scdn.co/mp3-preview/822fe0e4a7053045b425acf35383e042da6b3957?cid=eb607083c4cf43e38b906413a3ef1ada\n",
      "cover art  : https://i.scdn.co/image/ab67616d0000b2738d88fae79a837318aadcc056\n",
      "\n",
      "track      : 花占い\n",
      "popularity : 65\n",
      "audio      : https://p.scdn.co/mp3-preview/5ea24da4aa27214a25cf9e8dad12a1b44301f877?cid=eb607083c4cf43e38b906413a3ef1ada\n",
      "cover art  : https://i.scdn.co/image/ab67616d0000b2738d88fae79a837318aadcc056\n",
      "\n",
      "track      : CHAINSAW BLOOD\n",
      "popularity : 58\n",
      "audio      : https://p.scdn.co/mp3-preview/10d744a0f142c048f8e6595fbb0d3865dad48d4f?cid=eb607083c4cf43e38b906413a3ef1ada\n",
      "cover art  : https://i.scdn.co/image/ab67616d0000b2738d88fae79a837318aadcc056\n",
      "\n",
      "track      : Tokyo Flash\n",
      "popularity : 50\n",
      "audio      : https://p.scdn.co/mp3-preview/cecdb2c5f9cfbdafbf7b16a332791c89c1fd4f4b?cid=eb607083c4cf43e38b906413a3ef1ada\n",
      "cover art  : https://i.scdn.co/image/ab67616d0000b273a8bfbe9641a7a7753022b1f8\n",
      "\n"
     ]
    }
   ],
   "source": [
    "lz_uri = 'spotify:artist:2IUl3m1H1EQ7QfNbNWvgru'\n",
    "\n",
    "\n",
    "\n",
    "spotify = spotipy.Spotify(client_credentials_manager=client_credentials_manager)\n",
    "\n",
    "results = spotify.artist_top_tracks(lz_uri)\n",
    "\n",
    "\n",
    "for track in results['tracks'][:10]:\n",
    "    print('track      : ' + track['name'])\n",
    "    print('popularity : ' + str(track['popularity']))\n",
    "    print('audio      : ' + track['preview_url'])\n",
    "    print('cover art  : ' + track['album']['images'][0]['url'])\n",
    "    print()\n",
    "\n"
   ]
  },
  {
   "cell_type": "code",
   "execution_count": 42,
   "metadata": {},
   "outputs": [
    {
     "name": "stdout",
     "output_type": "stream",
     "text": [
      "artists    :Lilas Ikuta\n",
      "popularity :59\n",
      "id         :1qM11R4ylJyQiPJ0DffE9z\n",
      "\n",
      "artists    :milet\n",
      "popularity :62\n",
      "id         :45ft4DyTCEJfQwTBHXpdhM\n",
      "\n",
      "artists    :sumika\n",
      "popularity :56\n",
      "id         :0ySFZq3Wd0SQUyJUzmJAeb\n",
      "\n",
      "artists    :yama\n",
      "popularity :62\n",
      "id         :7kOrrFIBIBc8uCu2zbxbLv\n",
      "\n",
      "artists    :DISH//\n",
      "popularity :55\n",
      "id         :0jJmZHZHNe8n24Y33z5Nil\n",
      "\n",
      "artists    :Novelbright\n",
      "popularity :60\n",
      "id         :0jWCX6zp4RjWrmZRxJ2uri\n",
      "\n",
      "artists    :Macaroni Empitsu\n",
      "popularity :64\n",
      "id         :1t17z3vfuc82cxSDMrvryJ\n",
      "\n",
      "artists    :ヨルシカ\n",
      "popularity :68\n",
      "id         :4UK2Lzi6fBfUi9rpDt6cik\n",
      "\n",
      "artists    :Awesome City Club\n",
      "popularity :46\n",
      "id         :7jGn8qhLb48n7yMMNfAoHv\n",
      "\n",
      "artists    :Uru\n",
      "popularity :59\n",
      "id         :6le80R1opKnTlP4o3KvA2k\n",
      "\n"
     ]
    }
   ],
   "source": [
    "# lz_uri = \"spotify:artist:4SJ7qRgJYNXB9Yttzs4aSa\"\n",
    "related = spotify.artist_related_artists(lz_uri)\n",
    "\n",
    "# print(related)\n",
    "for band in related['artists'][:10]:\n",
    "    print('artists    :' + band['name'])\n",
    "    print('popularity :' + str(band['popularity']))\n",
    "    print('id         :' + band['id'])\n",
    "    print()"
   ]
  }
 ],
 "metadata": {
  "kernelspec": {
   "display_name": "base",
   "language": "python",
   "name": "python3"
  },
  "language_info": {
   "codemirror_mode": {
    "name": "ipython",
    "version": 3
   },
   "file_extension": ".py",
   "mimetype": "text/x-python",
   "name": "python",
   "nbconvert_exporter": "python",
   "pygments_lexer": "ipython3",
   "version": "3.9.18"
  }
 },
 "nbformat": 4,
 "nbformat_minor": 2
}
